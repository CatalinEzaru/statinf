{
 "cells": [
  {
   "cell_type": "code",
   "execution_count": 82,
   "metadata": {},
   "outputs": [],
   "source": [
    "from scipy import stats\n",
    "from scipy.stats import norm\n",
    "from scipy.stats import beta\n",
    "import matplotlib.pyplot as plt\n",
    "import numpy as np\n",
    "import math\n",
    "# %matplotlib notebook\n",
    "\n",
    "# https://towardsdatascience.com/understanding-the-68-95-99-7-rule-for-a-normal-distribution-b7b7cbf760c2"
   ]
  },
  {
   "cell_type": "code",
   "execution_count": 48,
   "metadata": {},
   "outputs": [
    {
     "data": {
      "text/plain": [
       "0.6826894921370859"
      ]
     },
     "execution_count": 48,
     "metadata": {},
     "output_type": "execute_result"
    }
   ],
   "source": [
    "norm.cdf(1) - norm.cdf(-1)"
   ]
  },
  {
   "cell_type": "code",
   "execution_count": 49,
   "metadata": {},
   "outputs": [
    {
     "data": {
      "text/plain": [
       "0.9544997361036416"
      ]
     },
     "execution_count": 49,
     "metadata": {},
     "output_type": "execute_result"
    }
   ],
   "source": [
    "norm.cdf(2) - norm.cdf(-2)"
   ]
  },
  {
   "cell_type": "code",
   "execution_count": 50,
   "metadata": {},
   "outputs": [
    {
     "data": {
      "text/plain": [
       "0.9973002039367398"
      ]
     },
     "execution_count": 50,
     "metadata": {},
     "output_type": "execute_result"
    }
   ],
   "source": [
    "norm.cdf(3) - norm.cdf(-3)"
   ]
  },
  {
   "cell_type": "code",
   "execution_count": 77,
   "metadata": {},
   "outputs": [
    {
     "data": {
      "image/png": "[encoded data removed]",
      "text/plain": [
       "<Figure size 432x288 with 1 Axes>"
      ]
     },
     "metadata": {},
     "output_type": "display_data"
    }
   ],
   "source": [
    "x = np.array([-0.5, 0, 1, 1, 1.5])\n",
    "y = np.array([0, 0, 2, 0, 0])\n",
    "plt.plot(x,  y, lw=3)\n",
    "plt.fill(np.array([0, 0.75, 0.75]), np.array([0, 1.5, 0]), \"pink\")\n",
    "plt.show()\n",
    "# https://digitalsynopsis.com/design/color-thesaurus-correct-names-of-shades/"
   ]
  },
  {
   "cell_type": "code",
   "execution_count": 57,
   "metadata": {},
   "outputs": [
    {
     "data": {
      "text/plain": [
       "0.5625"
      ]
     },
     "execution_count": 57,
     "metadata": {},
     "output_type": "execute_result"
    }
   ],
   "source": [
    "beta.cdf(0.75, 2, 1)"
   ]
  },
  {
   "cell_type": "code",
   "execution_count": 58,
   "metadata": {},
   "outputs": [
    {
     "data": {
      "text/plain": [
       "array([0.16, 0.25, 0.36])"
      ]
     },
     "execution_count": 58,
     "metadata": {},
     "output_type": "execute_result"
    }
   ],
   "source": [
    "beta.cdf(np.array([0.4, 0.5, 0.6]), 2, 1)"
   ]
  },
  {
   "cell_type": "code",
   "execution_count": 108,
   "metadata": {},
   "outputs": [
    {
     "data": {
      "image/png": "[encoded data removed]",
      "text/plain": [
       "<Figure size 432x288 with 1 Axes>"
      ]
     },
     "metadata": {},
     "output_type": "display_data"
    }
   ],
   "source": [
    "def func1(x):\n",
    "    return norm.pdf(x, -2, 0.9) + norm.pdf(x, 2, 0.8) + norm.pdf(x, 0, 0.8)\n",
    "\n",
    "mu = 0\n",
    "variance = 1\n",
    "sigma = math.sqrt(variance)\n",
    "x = np.linspace(mu - 5*sigma, mu + 5*sigma, 100)\n",
    "y = func1(x)\n",
    "plt.plot(x, y, lw=3)\n",
    "x1 = np.linspace(mu - 5*sigma, 0, 50)\n",
    "plt.fill_between(x1, func1(x1), color=\"pink\")\n",
    "plt.show()"
   ]
  },
  {
   "cell_type": "code",
   "execution_count": 110,
   "metadata": {},
   "outputs": [
    {
     "data": {
      "text/plain": [
       "0.7071067811865475"
      ]
     },
     "execution_count": 110,
     "metadata": {},
     "output_type": "execute_result"
    }
   ],
   "source": [
    "beta.ppf(0.5, 2, 1)\n",
    "# bring in the Monty-Hall problem\n",
    "# https://www.youtube.com/watch?v=i7OY7CZUdIY\n",
    "# https://www.youtube.com/watch?v=8DMnAAvakh0\n",
    "# introduce precision & recall, with specificity and sensitivity"
   ]
  },
  {
   "cell_type": "code",
   "execution_count": 2,
   "metadata": {},
   "outputs": [
    {
     "data": {
      "text/plain": [
       "3"
      ]
     },
     "execution_count": 2,
     "metadata": {},
     "output_type": "execute_result"
    }
   ],
   "source": [
    "1 + 2"
   ]
  },
  {
   "cell_type": "code",
   "execution_count": 6,
   "metadata": {},
   "outputs": [],
   "source": [
    "import numpy as np\n",
    "import matplotlib.pyplot as plt\n",
    "%matplotlib inline"
   ]
  },
  {
   "cell_type": "code",
   "execution_count": 7,
   "metadata": {},
   "outputs": [
    {
     "data": {
      "image/png": "[encoded data removed]",
      "text/plain": [
       "<Figure size 432x288 with 1 Axes>"
      ]
     },
     "metadata": {},
     "output_type": "display_data"
    }
   ],
   "source": [
    "x = [1, 2, 3, 4, 5, 6]\n",
    "y = [1/6, 0/6, 0/6, 0/6, 4/6, 1/6]\n",
    "plt.bar(x, y)\n",
    "plt.show()"
   ]
  },
  {
   "cell_type": "code",
   "execution_count": 8,
   "metadata": {},
   "outputs": [
    {
     "data": {
      "text/plain": [
       "[0, 1, 2, 3, 4, 5]"
      ]
     },
     "execution_count": 8,
     "metadata": {},
     "output_type": "execute_result"
    }
   ],
   "source": [
    "[x for x in range(6)]"
   ]
  },
  {
   "cell_type": "code",
   "execution_count": 9,
   "metadata": {},
   "outputs": [],
   "source": [
    "d = {}\n",
    "for i in range(6):\n",
    "    d[i+1] = 1/6"
   ]
  },
  {
   "cell_type": "code",
   "execution_count": 10,
   "metadata": {},
   "outputs": [
    {
     "data": {
      "text/plain": [
       "dict_items([(1, 0.16666666666666666), (2, 0.16666666666666666), (3, 0.16666666666666666), (4, 0.16666666666666666), (5, 0.16666666666666666), (6, 0.16666666666666666)])"
      ]
     },
     "execution_count": 10,
     "metadata": {},
     "output_type": "execute_result"
    }
   ],
   "source": [
    "d.items()"
   ]
  },
  {
   "cell_type": "code",
   "execution_count": 11,
   "metadata": {},
   "outputs": [],
   "source": [
    "def cummulate(a, d):\n",
    "    r = {}\n",
    "    for k1, v1 in a.items():\n",
    "        for k2, v2 in d.items():\n",
    "            r[k1+k2] = v1*v2 if r.get(k1+k2) is None else v1*v2 + r[k1+k2]\n",
    "    return r"
   ]
  },
  {
   "cell_type": "code",
   "execution_count": 57,
   "metadata": {},
   "outputs": [
    {
     "data": {
      "image/png": "[encoded data removed]",
      "text/plain": [
       "<Figure size 432x288 with 1 Axes>"
      ]
     },
     "metadata": {},
     "output_type": "display_data"
    },
    {
     "name": "stdout",
     "output_type": "stream",
     "text": [
      "mean: 3503.500000 var: 2919.583333 std: 54.033169\n"
     ]
    }
   ],
   "source": [
    "r = d\n",
    "for i in range(1000):\n",
    "    r = cummulate(r, d)\n",
    "    \n",
    "mean = np.sum(np.array(list(r.keys())) * np.array(list(r.values())))\n",
    "var = np.sum(np.array(list(r.values())) * np.square(np.array(list(r.keys())) - mean))\n",
    "std = np.sqrt(var)\n",
    "x, y = r.keys(), r.values()\n",
    "\n",
    "plt.bar(x, y)\n",
    "plt.axvline(x=mean, color='red')\n",
    "plt.axvline(x=mean-std, color='red')\n",
    "plt.axvline(x=mean+std, color='red')\n",
    "plt.axvline(x=mean-2*std, color='red')\n",
    "plt.axvline(x=mean+2*std, color='red')\n",
    "plt.text(mean-5,-0.005,'mean', color='red')\n",
    "plt.show()\n",
    "\n",
    "print('mean: %f var: %f std: %f' % (mean, var, std))\n",
    "#np.sum(np.array(list(r.keys())) * np.array(list(r.values())))\n",
    "mask = np.logical_and(list(r.keys()) > mean-std, list(r.keys()) < mean+std)  \n",
    "first = np.sum(np.array(list(r.keys()))[mask] * np.array(list(r.values()))[mask])"
   ]
  },
  {
   "cell_type": "code",
   "execution_count": 58,
   "metadata": {},
   "outputs": [],
   "source": [
    "mean = np.sum(np.array(list(r.keys())) * np.array(list(r.values())))"
   ]
  },
  {
   "cell_type": "code",
   "execution_count": 62,
   "metadata": {},
   "outputs": [
    {
     "data": {
      "text/plain": [
       "0.3411740383130233"
      ]
     },
     "execution_count": 62,
     "metadata": {},
     "output_type": "execute_result"
    }
   ],
   "source": [
    "first / mean / 2"
   ]
  },
  {
   "cell_type": "code",
   "execution_count": 65,
   "metadata": {},
   "outputs": [
    {
     "data": {
      "text/plain": [
       "0.1360166950236984"
      ]
     },
     "execution_count": 65,
     "metadata": {},
     "output_type": "execute_result"
    }
   ],
   "source": [
    "mask = np.logical_and(list(r.keys()) > mean-2*std, list(r.keys()) < mean+2*std)  \n",
    "second = np.sum(np.array(list(r.keys()))[mask] * np.array(list(r.values()))[mask])\n",
    "second / mean / 2 - first / mean / 2"
   ]
  },
  {
   "cell_type": "code",
   "execution_count": 68,
   "metadata": {},
   "outputs": [
    {
     "data": {
      "text/plain": [
       "0.02145560199691393"
      ]
     },
     "execution_count": 68,
     "metadata": {},
     "output_type": "execute_result"
    }
   ],
   "source": [
    "mask = np.logical_and(list(r.keys()) > mean-3*std, list(r.keys()) < mean+3*std)  \n",
    "third = np.sum(np.array(list(r.keys()))[mask] * np.array(list(r.values()))[mask])\n",
    "third / mean / 2 - first / mean / 2 - (second / mean / 2 - first / mean / 2)"
   ]
  },
  {
   "cell_type": "code",
   "execution_count": null,
   "metadata": {},
   "outputs": [],
   "source": []
  }
 ],
 "metadata": {
  "kernelspec": {
   "display_name": "Python 3",
   "language": "python",
   "name": "python3"
  },
  "language_info": {
   "codemirror_mode": {
    "name": "ipython",
    "version": 3
   },
   "file_extension": ".py",
   "mimetype": "text/x-python",
   "name": "python",
   "nbconvert_exporter": "python",
   "pygments_lexer": "ipython3",
   "version": "3.5.4"
  }
 },
 "nbformat": 4,
 "nbformat_minor": 2
}
